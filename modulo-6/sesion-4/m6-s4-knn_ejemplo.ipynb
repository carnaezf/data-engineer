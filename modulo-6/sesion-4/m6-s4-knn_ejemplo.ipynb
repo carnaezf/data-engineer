{
 "cells": [
  {
   "cell_type": "markdown",
   "id": "52d7fcfc",
   "metadata": {},
   "source": [
    "# 📘 Ejemplo conceptual de K-NN: Elección del valor de K\n",
    "Este notebook demuestra cómo afecta la elección del parámetro **K** en el algoritmo **K-Nearest Neighbors**, utilizando un ejemplo simple: predecir si un estudiante aprobará un examen según las horas de estudio.\n\n",
    "Exploraremos dos casos:\n",
    "- **K = 1** (sobreajuste)\n",
    "- **K = 6** (subajuste)"
   ]
  },
  {
   "cell_type": "code",
   "execution_count": null,
   "id": "43cf5190",
   "metadata": {},
   "outputs": [],
   "source": [
    "# Importamos librerías necesarias\n",
    "import matplotlib.pyplot as plt\n",
    "import numpy as np"
   ]
  },
  {
   "cell_type": "markdown",
   "id": "039df844",
   "metadata": {},
   "source": [
    "## Datos del problema\n",
    "- Cada punto representa un estudiante y si aprobó el examen (1 = Sí, 0 = No)\n",
    "- Queremos predecir el resultado de un nuevo estudiante que estudió 4.5 horas"
   ]
  },
  {
   "cell_type": "code",
   "execution_count": null,
   "id": "27bf1321",
   "metadata": {},
   "outputs": [],
   "source": [
    "# Datos de entrenamiento\n",
    "horas_estudio = np.array([1, 2, 3, 4, 5, 6, 7])\n",
    "aprobado = np.array([0, 0, 1, 1, 1, 1, 0])  # 0 = No, 1 = Sí\n",
    "nuevo_estudiante = 4.5"
   ]
  },
  {
   "cell_type": "markdown",
   "id": "bb2f9c3b",
   "metadata": {},
   "source": [
    "## Función para simular K-NN\n",
    "Esta función selecciona los K vecinos más cercanos y predice según la mayoría."
   ]
  },
  {
   "cell_type": "code",
   "execution_count": null,
   "id": "a3d00dd4",
   "metadata": {},
   "outputs": [],
   "source": [
    "def prediccion_knn(k):\n",
    "    distancias = np.abs(horas_estudio - nuevo_estudiante)\n",
    "    vecinos_idx = np.argsort(distancias)[:k]\n",
    "    vecinos_clases = aprobado[vecinos_idx]\n",
    "    prediccion = np.round(np.mean(vecinos_clases))  # mayoría simple\n",
    "    return vecinos_idx, vecinos_clases, prediccion"
   ]
  },
  {
   "cell_type": "markdown",
   "id": "bac4be88",
   "metadata": {},
   "source": [
    "## Visualización del resultado\n",
    "Se muestran los puntos conocidos y la predicción para el nuevo estudiante, con K=1 y K=6."
   ]
  },
  {
   "cell_type": "markdown",
   "id": "a6dd5f9b",
   "metadata": {},
   "source": [
    "## 🔍 Analicemos el impacto del valor de K con un ejemplo\n",
    "\n",
    "**Problema:** Queremos predecir si un estudiante aprobará un examen, en base a las horas de estudio.\n",
    "\n",
    "Supongamos que tenemos una pequeña base de datos con estas observaciones:\n",
    "\n",
    "| Horas de estudio | Aprobó examen |\n",
    "|------------------|----------------|\n",
    "| 1                | ❌ No          |\n",
    "| 2                | ❌ No          |\n",
    "| 3                | ✅ Sí          |\n",
    "| 4                | ✅ Sí          |\n",
    "| 5                | ✅ Sí          |\n",
    "| 6                | ✅ Sí          |\n",
    "| 7                | ❌ No          |\n",
    "\n",
    "Ahora vamos a predecir el resultado para un estudiante que estudió **4.5 horas**.\n",
    "\n",
    "---\n",
    "\n",
    "### 📌 Caso 1: K = 1 → Sobreajuste\n",
    "\n",
    "Con **K = 1**, el modelo considera solo al vecino más cercano.\n",
    "\n",
    "En este caso, el punto más cercano es **5 horas**, cuyo resultado fue “✅ Sí”.\n",
    "\n",
    "➡ El modelo predice **Sí**, basándose en un solo vecino.\n",
    "\n",
    "**Problema:** si ese vecino estuviera mal etiquetado (ruido), la predicción fallaría.  \n",
    "Esto es **sobreajuste**: el modelo se ajusta demasiado a detalles específicos y pierde generalidad.\n",
    "\n",
    "---\n",
    "\n",
    "### 📌 Caso 2: K = 6 → Subajuste\n",
    "\n",
    "Ahora probamos con **K = 6** (consideramos los 6 vecinos más cercanos).\n",
    "\n",
    "Resultados:\n",
    "\n",
    "- 4 vecinos son “✅ Sí”\n",
    "- 2 vecinos son “❌ No”\n",
    "\n",
    "➡ El modelo predice “✅ Sí”… pero está muy cerca del empate.\n",
    "\n",
    "¿Y si fueran 3 y 3? El modelo podría confundirse.  \n",
    "¿Y si K fuera aún mayor? Consideraría incluso valores alejados (como el de 1 hora), diluyendo patrones reales.\n",
    "\n",
    "Esto es **subajuste**: el modelo generaliza tanto que pierde precisión en los límites entre clases.\n",
    "\n",
    "---\n",
    "\n",
    "### ✅ ¿Cuál es el mejor valor de K?\n",
    "\n",
    "Una práctica recomendada es **graficar el error de validación** para diferentes valores de K y elegir el que **minimiza la tasa de error** sin caer en sobreajuste o subajuste.\n",
    "\n",
    "📈 *Imagen sugerida*:  \n",
    "Gráfico con el eje X como el valor de K (1, 2, 3… 15)  \n",
    "Eje Y como el error de validación.  \n",
    "🔵 Punto mínimo indica el valor óptimo de K.\n"
   ]
  },
  {
   "cell_type": "markdown",
   "id": "439853f9",
   "metadata": {},
   "source": [
    "### 📌 Caso 1: K = 1 → Sobreajuste\n",
    "\n",
    "Con **K = 1**, el modelo considera solo al vecino más cercano.\n",
    "\n",
    "En este ejemplo, el nuevo estudiante que estudió **4.5 horas** es clasificado según el estudiante más cercano: el que estudió **5 horas** y **sí aprobó**.\n",
    "\n",
    "✅ **Resultado:** El modelo predice “✔ Sí”.\n",
    "\n",
    "🔴 **Peligro:** Si ese único vecino estuviera mal etiquetado, toda la predicción sería incorrecta.\n",
    "\n",
    "🧠 Esto es un caso típico de **sobreajuste (overfitting)**: el modelo se adapta demasiado a casos específicos y puede perder capacidad de generalización.\n"
   ]
  },
  {
   "cell_type": "code",
   "execution_count": null,
   "id": "6a365b66",
   "metadata": {},
   "outputs": [],
   "source": [
    "# Visualización para K=1\n",
    "fig, ax = plt.subplots(figsize=(10, 4))\n",
    "\n",
    "# Dibujar puntos existentes\n",
    "for i in range(len(horas_estudio)):\n",
    "    color = 'green' if aprobado[i] == 1 else 'red'\n",
    "    ax.scatter(horas_estudio[i], 0, color=color, s=100)\n",
    "    ax.text(horas_estudio[i], 0.05, f\"{horas_estudio[i]}h\", ha='center')\n",
    "\n",
    "# Punto a predecir\n",
    "ax.scatter(nuevo_estudiante, 0.05, color='blue', marker='*', s=200, label=\"Nuevo estudiante (4.5h)\")\n",
    "\n",
    "# Conexión con vecinos para K=1\n",
    "vecinos_k1, _, pred_k1 = prediccion_knn(1)\n",
    "for idx in vecinos_k1:\n",
    "    ax.plot([nuevo_estudiante, horas_estudio[idx]], [0.05, 0], linestyle='--', alpha=0.6)\n",
    "\n",
    "resultado_k1 = '✔ Sí' if pred_k1 == 1 else '✘ No'\n",
    "ax.text(8, -0.1, f\"Predicción con K=1: {resultado_k1}\", fontsize=10)\n",
    "\n",
    "ax.set_title(\"K-NN con K = 1\")\n",
    "ax.set_xlabel(\"Horas de estudio\")\n",
    "ax.get_yaxis().set_visible(False)\n",
    "ax.legend()\n",
    "plt.grid(True)\n",
    "plt.tight_layout()\n",
    "plt.show()\n"
   ]
  },
  {
   "cell_type": "markdown",
   "id": "96a53844",
   "metadata": {},
   "source": [
    "### 📌 Caso 2: K = 6 → Subajuste\n",
    "\n",
    "Ahora el modelo considera los **6 vecinos más cercanos** al nuevo estudiante de 4.5 horas.\n",
    "\n",
    "📊 De esos 6:\n",
    "- 4 vecinos aprobaron (verde)\n",
    "- 2 no aprobaron (rojo)\n",
    "\n",
    "✅ **Resultado:** El modelo también predice “✔ Sí”, pero ya no está tan seguro.  \n",
    "Si el valor de **K fuera mayor**, podrían entrar vecinos cada vez más alejados y con clases mezcladas.\n",
    "\n",
    "🧠 Esto representa un caso de **subajuste (underfitting)**: el modelo es tan general que pierde precisión en zonas con límites más sutiles entre clases.\n"
   ]
  },
  {
   "cell_type": "code",
   "execution_count": null,
   "id": "be92ca37",
   "metadata": {},
   "outputs": [],
   "source": [
    "# Visualización para K=6\n",
    "fig, ax = plt.subplots(figsize=(10, 4))\n",
    "\n",
    "# Dibujar puntos existentes\n",
    "for i in range(len(horas_estudio)):\n",
    "    color = 'green' if aprobado[i] == 1 else 'red'\n",
    "    ax.scatter(horas_estudio[i], 0, color=color, s=100)\n",
    "    ax.text(horas_estudio[i], 0.05, f\"{horas_estudio[i]}h\", ha='center')\n",
    "\n",
    "# Punto a predecir\n",
    "ax.scatter(nuevo_estudiante, 0.05, color='blue', marker='*', s=200, label=\"Nuevo estudiante (4.5h)\")\n",
    "\n",
    "# Conexión con vecinos para K=6\n",
    "vecinos_k6, _, pred_k6 = prediccion_knn(6)\n",
    "for idx in vecinos_k6:\n",
    "    ax.plot([nuevo_estudiante, horas_estudio[idx]], [0.05, 0], linestyle='--', alpha=0.6)\n",
    "\n",
    "resultado_k6 = '✔ Sí' if pred_k6 == 1 else '✘ No'\n",
    "ax.text(8, -0.1, f\"Predicción con K=6: {resultado_k6}\", fontsize=10)\n",
    "\n",
    "ax.set_title(\"K-NN con K = 6\")\n",
    "ax.set_xlabel(\"Horas de estudio\")\n",
    "ax.get_yaxis().set_visible(False)\n",
    "ax.legend()\n",
    "plt.grid(True)\n",
    "plt.tight_layout()\n",
    "plt.show()\n"
   ]
  },
  {
   "cell_type": "markdown",
   "id": "0df98184",
   "metadata": {},
   "source": [
    "### 🎯 ¿Cuántos vecinos necesitas para tomar una buena decisión?\n",
    "\n",
    "Esta visualización muestra cómo el algoritmo **K-Nearest Neighbors (K-NN)** analiza un nuevo dato —el estudiante azul que estudió 4.5 horas— comparándolo con su entorno más cercano.\n",
    "\n",
    "Cada círculo representa un caso real:\n",
    "- 🔴 En rojo, estudiantes que **no aprobaron**\n",
    "- 🟢 En verde, estudiantes que **sí aprobaron**\n",
    "- 🔵 El punto azul representa al **nuevo estudiante** cuya clasificación queremos predecir.\n",
    "\n",
    "Al variar el valor de **K**, el modelo puede:\n",
    "- Centrarse demasiado en un solo vecino → **Sobreajuste (overfitting)**\n",
    "- Considerar demasiados vecinos → **Subajuste (underfitting)**\n",
    "\n",
    "En esta imagen se visualiza el caso de **K = 6**, donde se conectan los seis vecinos más cercanos al nuevo estudiante. Esto puede diluir diferencias relevantes entre clases, afectando la precisión del modelo.\n",
    "\n",
    "✅ **Conclusión:** Elegir el valor de K adecuado es clave para lograr un modelo balanceado, que generalice bien y no sea ni demasiado rígido ni demasiado flexible.\n"
   ]
  }
 ],
 "metadata": {},
 "nbformat": 4,
 "nbformat_minor": 5
}
