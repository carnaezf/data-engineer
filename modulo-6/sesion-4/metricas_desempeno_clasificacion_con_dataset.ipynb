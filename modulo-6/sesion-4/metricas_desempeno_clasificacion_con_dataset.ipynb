{
 "cells": [
  {
   "cell_type": "markdown",
   "id": "3da7a9ca",
   "metadata": {},
   "source": [
    "# 📊 Evaluación de métricas de desempeño en clasificación\n",
    "\n",
    "Este notebook muestra cómo evaluar un modelo de clasificación utilizando métricas clave como **precisión (accuracy)**, **sensibilidad (recall)**, **especificidad** y **valor predictivo positivo (precision)**.\n",
    "\n",
    "Usaremos un ejemplo simulado basado en un sistema de diagnóstico médico aplicado a un conjunto de 100 pacientes.\n"
   ]
  },
  {
   "cell_type": "markdown",
   "id": "9cd2de6d",
   "metadata": {},
   "source": [
    "## 🧬 Simulación del dataset de pacientes\n",
    "\n",
    "Creamos un pequeño conjunto de datos con 100 pacientes, que incluye el diagnóstico real y la predicción del modelo.\n"
   ]
  },
  {
   "cell_type": "code",
   "execution_count": null,
   "id": "ec96c0ab",
   "metadata": {},
   "outputs": [],
   "source": [
    "import pandas as pd\n",
    "\n",
    "# Crear datos simulados\n",
    "data = []\n",
    "\n",
    "# 20 pacientes realmente enfermos\n",
    "data += [{'diagnóstico_real': 'enfermo', 'predicción_modelo': 'enfermo'} for _ in range(16)]  # VP\n",
    "data += [{'diagnóstico_real': 'enfermo', 'predicción_modelo': 'sano'} for _ in range(4)]      # FN\n",
    "\n",
    "# 80 pacientes realmente sanos\n",
    "data += [{'diagnóstico_real': 'sano', 'predicción_modelo': 'sano'} for _ in range(70)]        # VN\n",
    "data += [{'diagnóstico_real': 'sano', 'predicción_modelo': 'enfermo'} for _ in range(10)]     # FP\n",
    "\n",
    "# Crear DataFrame\n",
    "df = pd.DataFrame(data)\n",
    "df.head()\n"
   ]
  },
  {
   "cell_type": "markdown",
   "id": "50dedee7",
   "metadata": {},
   "source": [
    "## 🧪 Matriz de confusión del modelo\n",
    "\n",
    "A partir del dataset, reconstruimos la matriz de confusión manualmente.\n"
   ]
  },
  {
   "cell_type": "code",
   "execution_count": null,
   "id": "4348c597",
   "metadata": {},
   "outputs": [],
   "source": [
    "# Contar los elementos de la matriz de confusión\n",
    "VP = len(df[(df['diagnóstico_real'] == 'enfermo') & (df['predicción_modelo'] == 'enfermo')])\n",
    "FN = len(df[(df['diagnóstico_real'] == 'enfermo') & (df['predicción_modelo'] == 'sano')])\n",
    "FP = len(df[(df['diagnóstico_real'] == 'sano') & (df['predicción_modelo'] == 'enfermo')])\n",
    "VN = len(df[(df['diagnóstico_real'] == 'sano') & (df['predicción_modelo'] == 'sano')])\n",
    "\n",
    "print(f\"VP = {VP}, FN = {FN}, FP = {FP}, VN = {VN}\")\n"
   ]
  },
  {
   "cell_type": "markdown",
   "id": "bc686c3a",
   "metadata": {},
   "source": [
    "## 🧮 Cálculo de métricas\n",
    "\n",
    "Aplicamos las fórmulas para obtener las métricas más relevantes en clasificación binaria.\n"
   ]
  },
  {
   "cell_type": "code",
   "execution_count": null,
   "id": "4a4af137",
   "metadata": {},
   "outputs": [],
   "source": [
    "# Cálculo de métricas\n",
    "accuracy = (VP + VN) / (VP + VN + FP + FN)\n",
    "recall = VP / (VP + FN)\n",
    "specificity = VN / (VN + FP)\n",
    "precision_ppv = VP / (VP + FP)\n",
    "\n",
    "# Mostrar resultados\n",
    "print(f\"✔ Precisión (Accuracy): {accuracy:.2%}\")\n",
    "print(f\"📈 Sensibilidad (Recall): {recall:.2%}\")\n",
    "print(f\"🛡️ Especificidad: {specificity:.2%}\")\n",
    "print(f\"🔍 Valor Predictivo Positivo (Precision): {precision_ppv:.2%}\")\n"
   ]
  },
  {
   "cell_type": "markdown",
   "id": "eb6af1d1",
   "metadata": {},
   "source": [
    "## 📊 Visualización de la matriz de confusión\n",
    "\n",
    "Representamos gráficamente los resultados para visualizar los aciertos y errores del modelo.\n"
   ]
  },
  {
   "cell_type": "code",
   "execution_count": null,
   "id": "1ffe8793",
   "metadata": {},
   "outputs": [],
   "source": [
    "import seaborn as sns\n",
    "import matplotlib.pyplot as plt\n",
    "import numpy as np\n",
    "\n",
    "# Crear matriz de confusión\n",
    "conf_matrix = np.array([[VP, FN], [FP, VN]])\n",
    "etiquetas = ['Enfermo', 'Sano']\n",
    "df_cm = pd.DataFrame(conf_matrix, index=etiquetas, columns=etiquetas)\n",
    "\n",
    "# Visualizar con heatmap\n",
    "plt.figure(figsize=(6, 4))\n",
    "sns.heatmap(df_cm, annot=True, fmt='d', cmap='Blues')\n",
    "plt.title(\"🔍 Matriz de Confusión\")\n",
    "plt.xlabel(\"Predicción del modelo\")\n",
    "plt.ylabel(\"Clase real\")\n",
    "plt.show()\n"
   ]
  },
  {
   "cell_type": "markdown",
   "id": "cc004cd6",
   "metadata": {},
   "source": [
    "## 🧠 Conclusiones\n",
    "\n",
    "- El modelo tiene una **precisión general del 86%**, lo que indica un buen rendimiento global.\n",
    "- La **sensibilidad del 80%** muestra que detecta correctamente a la mayoría de los pacientes enfermos.\n",
    "- La **especificidad del 87.5%** indica que evita la mayoría de los falsos positivos (alarma innecesaria).\n",
    "- La **precisión del 61.5%** revela que no todos los pacientes etiquetados como enfermos realmente lo están.\n",
    "\n",
    "Este análisis permite reflexionar sobre el equilibrio entre **detectar correctamente (recall)** y **no alarmar en exceso (specificity)**.\n"
   ]
  }
 ],
 "metadata": {},
 "nbformat": 4,
 "nbformat_minor": 5
}
