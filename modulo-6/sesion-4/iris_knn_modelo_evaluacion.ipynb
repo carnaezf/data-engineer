{
 "cells": [
  {
   "cell_type": "markdown",
   "id": "2f9589e2",
   "metadata": {},
   "source": [
    "# 🌸 Clasificación con K-NN en el dataset Iris\n",
    "\n",
    "Este notebook muestra cómo entrenar y evaluar un modelo de clasificación utilizando el algoritmo **K-Nearest Neighbors (K-NN)** con el dataset clásico **Iris**.\n",
    "\n",
    "Exploraremos paso a paso:\n",
    "\n",
    "1. Carga y preparación del dataset.\n",
    "2. Entrenamiento del modelo K-NN.\n",
    "3. Evaluación del desempeño con métricas de clasificación.\n"
   ]
  },
  {
   "cell_type": "code",
   "execution_count": null,
   "id": "c05e103a",
   "metadata": {},
   "outputs": [],
   "source": [
    "# Importar librerías\n",
    "from sklearn.datasets import load_iris\n",
    "from sklearn.model_selection import train_test_split\n",
    "from sklearn.preprocessing import StandardScaler\n",
    "from sklearn.neighbors import KNeighborsClassifier\n",
    "from sklearn.metrics import accuracy_score, confusion_matrix, classification_report\n",
    "\n",
    "import pandas as pd\n",
    "import matplotlib.pyplot as plt\n",
    "import seaborn as sns\n"
   ]
  },
  {
   "cell_type": "markdown",
   "id": "6b86a2a2",
   "metadata": {},
   "source": [
    "## 📥 Cargar y preparar los datos\n",
    "\n",
    "Usaremos el dataset `Iris`, que contiene 150 registros con cuatro características por flor y una etiqueta de clase.\n"
   ]
  },
  {
   "cell_type": "code",
   "execution_count": null,
   "id": "e41caa23",
   "metadata": {},
   "outputs": [],
   "source": [
    "# Cargar el dataset\n",
    "iris = load_iris()\n",
    "X = iris.data\n",
    "y = iris.target\n",
    "\n",
    "# División en entrenamiento y prueba\n",
    "X_train, X_test, y_train, y_test = train_test_split(X, y, test_size=0.3, random_state=42)\n",
    "\n",
    "# Escalar características\n",
    "scaler = StandardScaler()\n",
    "X_train = scaler.fit_transform(X_train)\n",
    "X_test = scaler.transform(X_test)\n"
   ]
  },
  {
   "cell_type": "markdown",
   "id": "338654bc",
   "metadata": {},
   "source": [
    "## 🤖 Entrenar el modelo K-NN\n",
    "\n",
    "Entrenamos un clasificador K-NN con `k=5` vecinos.\n"
   ]
  },
  {
   "cell_type": "code",
   "execution_count": null,
   "id": "a4d363c2",
   "metadata": {},
   "outputs": [],
   "source": [
    "knn = KNeighborsClassifier(n_neighbors=5)\n",
    "knn.fit(X_train, y_train)\n"
   ]
  },
  {
   "cell_type": "markdown",
   "id": "f2e0f79b",
   "metadata": {},
   "source": [
    "## 📊 Evaluar el modelo\n",
    "\n",
    "Evaluaremos el desempeño con precisión, matriz de confusión y reporte de clasificación.\n"
   ]
  },
  {
   "cell_type": "code",
   "execution_count": null,
   "id": "eddc62ef",
   "metadata": {},
   "outputs": [],
   "source": [
    "# Predicción\n",
    "y_pred = knn.predict(X_test)\n",
    "\n",
    "# Evaluación\n",
    "print(\"✔ Precisión del modelo:\", accuracy_score(y_test, y_pred))\n",
    "\n",
    "print(\"\\n📌 Matriz de confusión:\")\n",
    "print(confusion_matrix(y_test, y_pred))\n",
    "\n",
    "print(\"\\n📋 Reporte de clasificación:\")\n",
    "print(classification_report(y_test, y_pred, target_names=iris.target_names))\n"
   ]
  },
  {
   "cell_type": "code",
   "execution_count": null,
   "id": "6a4fd5fa",
   "metadata": {},
   "outputs": [],
   "source": [
    "# Visualizar la matriz de confusión con Seaborn\n",
    "conf_matrix = confusion_matrix(y_test, y_pred)\n",
    "plt.figure(figsize=(6, 4))\n",
    "sns.heatmap(conf_matrix, annot=True, fmt='d', cmap=\"Blues\", xticklabels=iris.target_names, yticklabels=iris.target_names)\n",
    "plt.xlabel(\"Clase predicha\")\n",
    "plt.ylabel(\"Clase verdadera\")\n",
    "plt.title(\"Matriz de Confusión - Iris con K-NN (k=5)\")\n",
    "plt.show()\n"
   ]
  },
  {
   "cell_type": "markdown",
   "id": "87564850",
   "metadata": {},
   "source": [
    "✅ **Conclusión**:  \n",
    "Este modelo logra una alta precisión, y la matriz de confusión muestra que la mayoría de las predicciones están correctamente clasificadas, especialmente en la clase *setosa*, con un leve cruce entre *versicolor* y *virginica*.\n",
    "\n",
    "Este análisis permite comprender mejor **dónde acierta y en qué se equivoca el modelo**, una habilidad fundamental al trabajar con clasificación.\n"
   ]
  }
 ],
 "metadata": {},
 "nbformat": 4,
 "nbformat_minor": 5
}
