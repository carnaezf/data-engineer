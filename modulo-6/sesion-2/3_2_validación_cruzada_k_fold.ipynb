{
  "nbformat": 4,
  "nbformat_minor": 0,
  "metadata": {
    "colab": {
      "provenance": []
    },
    "kernelspec": {
      "name": "python3",
      "display_name": "Python 3"
    },
    "language_info": {
      "name": "python"
    }
  },
  "cells": [
    {
      "cell_type": "markdown",
      "source": [
        "# Introducción al método K-Fold (Markdown)\n",
        "\n",
        "\n",
        "##  3.2. Validación Cruzada K-Fold\n",
        "\n",
        "La validación cruzada K-Fold es una de las técnicas más utilizadas para evaluar modelos de Machine Learning.  \n",
        "Es más robusta que la retención simple (Holdout) porque **aprovecha todo el dataset**, entrenando y validando múltiples veces sobre diferentes particiones.\n",
        "\n",
        "### ¿Cómo funciona?\n",
        "\n",
        "1. Divide el dataset en **K partes iguales** (folds).\n",
        "2. Entrena el modelo **K veces**, usando K−1 folds como entrenamiento y 1 como prueba en cada iteración.\n",
        "3. Al final, se **promedian los resultados** obtenidos.\n",
        "\n",
        "### Ejemplo clásico: K = 5\n",
        "- El modelo se entrena 5 veces con diferentes divisiones del dataset.\n",
        "- Cada vez se usa un 80% para entrenamiento y un 20% para prueba, pero con diferentes observaciones.\n",
        "\n",
        "### Ventajas:\n",
        "- Utiliza todos los datos para entrenar y validar.\n",
        "- Resultados más **estables** y representativos.\n",
        "\n",
        "Cuanto mayor sea K, mayor será la precisión... pero también **aumentará el tiempo de cómputo**.\n"
      ],
      "metadata": {
        "id": "7dK_7YXIWLuS"
      }
    },
    {
      "cell_type": "markdown",
      "source": [
        "# Entrenamiento con K-Fold"
      ],
      "metadata": {
        "id": "4ctCiN4AWGeZ"
      }
    },
    {
      "cell_type": "markdown",
      "source": [
        "# Importar las funciones necesarias"
      ],
      "metadata": {
        "id": "YRaXyXqkZIn0"
      }
    },
    {
      "cell_type": "code",
      "source": [
        "# Paso 1: Importar las funciones necesarias\n",
        "from sklearn.model_selection import cross_val_score, KFold       # Validación cruzada K-Fold\n",
        "from sklearn.linear_model import LinearRegression                 # Modelo base: regresión lineal\n",
        "from sklearn.datasets import make_regression                     # Para generar un dataset sintético"
      ],
      "metadata": {
        "id": "20HIUEIGYtRZ"
      },
      "execution_count": 29,
      "outputs": []
    },
    {
      "cell_type": "markdown",
      "source": [
        "# Crear un dataset artificial para regresión"
      ],
      "metadata": {
        "id": "dflihmUHZNh6"
      }
    },
    {
      "cell_type": "code",
      "source": [
        "# Paso 2: Crear un dataset artificial para regresión\n",
        "X, y = make_regression(n_samples=100, n_features=1, noise=10, random_state=0)"
      ],
      "metadata": {
        "id": "QtwNcBXZYxPF"
      },
      "execution_count": 30,
      "outputs": []
    },
    {
      "cell_type": "markdown",
      "source": [
        "# Crear el modelo"
      ],
      "metadata": {
        "id": "8Aqvida_ZT1x"
      }
    },
    {
      "cell_type": "code",
      "source": [
        "\n",
        "# Paso 3: Crear el modelo\n",
        "modelo = LinearRegression()"
      ],
      "metadata": {
        "id": "Juh6MU6KY0pF"
      },
      "execution_count": 31,
      "outputs": []
    },
    {
      "cell_type": "markdown",
      "source": [
        "# Definir el esquema de validación cruzada con 5 folds\n",
        "\n",
        "Mezclamos los datos antes de dividirlos para que los pliegues sean más variados\n"
      ],
      "metadata": {
        "id": "F9CBIsnnZZew"
      }
    },
    {
      "cell_type": "code",
      "source": [
        "# Paso 4: Definir el esquema de validación cruzada con 5 folds\n",
        "\n",
        "kf = KFold(n_splits=5, shuffle=True, random_state=1)"
      ],
      "metadata": {
        "id": "MuxSI2njY3HR"
      },
      "execution_count": 32,
      "outputs": []
    },
    {
      "cell_type": "markdown",
      "source": [
        "# Evaluar el modelo con cross_val_score\n",
        "Usamos R² como métrica para interpretar qué tan bien predice el modelo (0 a 1)"
      ],
      "metadata": {
        "id": "Uu0GZjimZisE"
      }
    },
    {
      "cell_type": "code",
      "source": [
        "# Paso 5: Evaluar el modelo con cross_val_score\n",
        "\n",
        "scores = cross_val_score(modelo, X, y, cv=kf, scoring='r2')"
      ],
      "metadata": {
        "id": "yYKOEXYXY6xG"
      },
      "execution_count": 33,
      "outputs": []
    },
    {
      "cell_type": "markdown",
      "source": [
        "# Mostrar los resultados de cada fold"
      ],
      "metadata": {
        "id": "AULlrR3PZq3z"
      }
    },
    {
      "cell_type": "code",
      "source": [
        "\n",
        "# Paso 6: Mostrar los resultados de cada fold\n",
        "print(\"Resultados por fold (R²):\", scores)"
      ],
      "metadata": {
        "colab": {
          "base_uri": "https://localhost:8080/"
        },
        "id": "467L9z8vY9vV",
        "outputId": "9109a884-53fb-4e10-c9ca-28c55e3657b7"
      },
      "execution_count": 34,
      "outputs": [
        {
          "output_type": "stream",
          "name": "stdout",
          "text": [
            "Resultados por fold (R²): [0.946436   0.9092964  0.93610963 0.94469709 0.93104444]\n"
          ]
        }
      ]
    },
    {
      "cell_type": "markdown",
      "source": [
        "# Calcular el promedio de R²"
      ],
      "metadata": {
        "id": "eBux2TF5Zx4V"
      }
    },
    {
      "cell_type": "code",
      "source": [
        "# Paso 7: Calcular el promedio de R²\n",
        "print(f\"Promedio R²: {scores.mean():.2f}\")"
      ],
      "metadata": {
        "colab": {
          "base_uri": "https://localhost:8080/"
        },
        "id": "sgpPPcn-ZCIH",
        "outputId": "fca3a72d-cbf6-4397-ddd6-9ae266faf330"
      },
      "execution_count": 35,
      "outputs": [
        {
          "output_type": "stream",
          "name": "stdout",
          "text": [
            "Promedio R²: 0.93\n"
          ]
        }
      ]
    },
    {
      "cell_type": "markdown",
      "source": [
        "# Explicación de los resultados\n",
        "###  Interpretación de los resultados\n",
        "\n",
        "El modelo se evaluó 5 veces, cada vez con un conjunto diferente de datos de prueba.\n",
        "\n",
        "- **Resultados por fold:** indican el rendimiento del modelo en cada iteración.  \n",
        "- **Promedio R²:** es una estimación más realista y confiable del desempeño general del modelo.\n",
        "\n",
        " Esta técnica reduce el riesgo de que una sola división del dataset (como ocurre en Holdout) distorsione la evaluación del modelo.\n",
        "\n",
        " **R² (coeficiente de determinación)** mide qué tan bien se ajusta el modelo a los datos. Su valor va de 0 a 1:\n",
        "- 0 = el modelo no explica nada\n",
        "- 1 = el modelo explica perfectamente los datos\n",
        "\n",
        "Un valor intermedio (ej. 0.85) indica un buen ajuste.\n"
      ],
      "metadata": {
        "id": "d_8q1rF_W1u4"
      }
    },
    {
      "cell_type": "markdown",
      "source": [
        "### Visualización de los folds en K-Fold Cross Validation\n",
        "\n",
        "Cada fila en la imagen representa una de las 5 divisiones (folds).  \n",
        "Los cuadrados:\n",
        "\n",
        "- 🟦 **Azules** representan los datos usados para **entrenar** el modelo en esa iteración.\n",
        "- 🟧 **Naranjas** representan los datos usados para **evaluar (test)** el modelo.\n",
        "\n",
        "Observa cómo en cada ciclo se usa una parte diferente del dataset como conjunto de prueba.  \n",
        "Al final, **todos los datos fueron usados exactamente una vez para validar**, y varias veces para entrenar.\n",
        "\n",
        "Esto permite una evaluación más robusta y representativa del modelo.\n"
      ],
      "metadata": {
        "id": "Bi3UlUkzXpYZ"
      }
    },
    {
      "cell_type": "code",
      "source": [
        "# Paso 8: Visualizar la división de los folds en K-Fold Cross Validation\n",
        "\n",
        "import matplotlib.pyplot as plt\n",
        "import numpy as np\n",
        "from sklearn.model_selection import KFold\n",
        "\n",
        "# Número total de datos\n",
        "n_muestras = 20  # Usamos 20 para que la visualización sea clara\n",
        "X_demo = np.arange(n_muestras).reshape(-1, 1)\n",
        "y_demo = np.random.rand(n_muestras)\n",
        "\n",
        "# Configurar K-Fold\n",
        "kfold = KFold(n_splits=5, shuffle=True, random_state=42)\n",
        "\n",
        "# Crear la figura\n",
        "plt.figure(figsize=(10, 3))\n",
        "plt.title(\"Visualización de los 5 folds en K-Fold Cross Validation\", fontsize=14)\n",
        "\n",
        "# Dibujar cada split\n",
        "for i, (train_index, test_index) in enumerate(kfold.split(X_demo)):\n",
        "    # Poner todos los puntos en gris\n",
        "    colores = np.full(n_muestras, 'lightgray', dtype=object)  # dtype=object es clave para colores tipo str\n",
        "\n",
        "    # Colorear entrenamiento en azul y prueba en naranja\n",
        "    colores[train_index] = 'steelblue'\n",
        "    colores[test_index] = 'darkorange'\n",
        "\n",
        "    # Dibujar los puntos como barras horizontales\n",
        "    plt.scatter(range(n_muestras), [i]*n_muestras, c=colores, s=100, marker='s')\n",
        "\n",
        "# Etiquetas y estilos\n",
        "plt.xlabel(\"Índice del dato\")\n",
        "plt.ylabel(\"Fold\")\n",
        "plt.yticks(range(5), [f'Fold {i+1}' for i in range(5)])\n",
        "plt.grid(False)\n",
        "plt.tight_layout()\n",
        "plt.show()\n"
      ],
      "metadata": {
        "colab": {
          "base_uri": "https://localhost:8080/",
          "height": 307
        },
        "id": "Z5nBnMxDWWc8",
        "outputId": "d50072fb-b38b-475b-f727-7f7f96278840"
      },
      "execution_count": 36,
      "outputs": [
        {
          "output_type": "display_data",
          "data": {
            "text/plain": [
              "<Figure size 1000x300 with 1 Axes>"
            ],
            "image/png": "[encoded data removed]"
          },
          "metadata": {}
        }
      ]
    },
    {
      "cell_type": "code",
      "source": [],
      "metadata": {
        "id": "eAwa164yXBAM"
      },
      "execution_count": 36,
      "outputs": []
    }
  ]
}