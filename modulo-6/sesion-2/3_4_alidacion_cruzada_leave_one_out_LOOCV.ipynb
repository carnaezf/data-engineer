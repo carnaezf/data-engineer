{
  "nbformat": 4,
  "nbformat_minor": 0,
  "metadata": {
    "colab": {
      "provenance": []
    },
    "kernelspec": {
      "name": "python3",
      "display_name": "Python 3"
    },
    "language_info": {
      "name": "python"
    }
  },
  "cells": [
    {
      "cell_type": "markdown",
      "source": [
        "##  3.4. Validación Cruzada Leave-One-Out (LOOCV)\n",
        "\n",
        "**Leave-One-Out Cross Validation (LOOCV)** es una forma extrema de validación cruzada donde se utiliza **una sola muestra como conjunto de prueba** en cada iteración, y el resto del dataset como entrenamiento.\n",
        "\n",
        "Es considerado un caso especial de **K-Fold**, donde **K es igual al número total de observaciones**.\n",
        "\n",
        "---\n",
        "\n",
        "###  ¿Cómo funciona?\n",
        "\n",
        "1. Se deja **un solo dato fuera** para validación.\n",
        "2. Se entrena el modelo con todos los datos restantes.\n",
        "3. Se repite este proceso **una vez por cada observación**.\n",
        "\n",
        "---\n",
        "\n",
        "###  Ventajas:\n",
        "- Utiliza casi todo el dataset en cada iteración.\n",
        "- Ideal para **datasets pequeños**.\n",
        "- Proporciona una evaluación **muy estable** y con baja varianza.\n",
        "\n",
        "###  Desventajas:\n",
        "- Puede ser **computacionalmente costoso** si el dataset es muy grande.\n"
      ],
      "metadata": {
        "id": "jd5hXjsgjpPU"
      }
    },
    {
      "cell_type": "markdown",
      "source": [
        "# Preparación del dataset y modelo"
      ],
      "metadata": {
        "id": "K8PbRUW7kAbm"
      }
    },
    {
      "cell_type": "code",
      "execution_count": 1,
      "metadata": {
        "id": "Zi9oI4G9jkTS"
      },
      "outputs": [],
      "source": [
        "# Paso 1: Importamos librerías necesarias\n",
        "from sklearn.datasets import make_regression\n",
        "from sklearn.linear_model import LinearRegression\n",
        "from sklearn.model_selection import LeaveOneOut, cross_val_score\n"
      ]
    },
    {
      "cell_type": "markdown",
      "source": [
        "# Generar datos y definir el modelo"
      ],
      "metadata": {
        "id": "mKqfv5AEkG4W"
      }
    },
    {
      "cell_type": "code",
      "source": [
        "# Paso 2: Generar un dataset pequeño con una sola característica\n",
        "# Agregamos ruido para simular datos reales\n",
        "X, y = make_regression(n_samples=20, n_features=1, noise=10, random_state=0)\n",
        "\n",
        "# Paso 3: Crear una instancia del modelo de regresión lineal\n",
        "modelo = LinearRegression()\n"
      ],
      "metadata": {
        "id": "3fVFJ2GCkDFt"
      },
      "execution_count": 2,
      "outputs": []
    },
    {
      "cell_type": "markdown",
      "source": [
        "# Aplicar LOOCV y calcular el error"
      ],
      "metadata": {
        "id": "DI3SJETrkN-9"
      }
    },
    {
      "cell_type": "code",
      "source": [
        "# Paso 4: Crear el esquema de validación Leave-One-Out\n",
        "loocv = LeaveOneOut()\n",
        "\n",
        "# Paso 5: Evaluar el modelo usando LOOCV\n",
        "# Usamos el Error Cuadrático Medio como métrica (MSE)\n",
        "# sklearn devuelve el error negativo, así que lo invertimos para interpretarlo\n",
        "scores = cross_val_score(modelo, X, y, cv=loocv, scoring='neg_mean_squared_error')\n",
        "\n",
        "# Paso 6: Mostrar el promedio de los errores de validación\n",
        "print(f\"📉 Promedio del error (LOOCV - MSE): {-scores.mean():.2f}\")\n"
      ],
      "metadata": {
        "colab": {
          "base_uri": "https://localhost:8080/"
        },
        "id": "WGeP_sTUkJn7",
        "outputId": "9e5773a6-b891-4165-efad-92d7efd9128e"
      },
      "execution_count": 3,
      "outputs": [
        {
          "output_type": "stream",
          "name": "stdout",
          "text": [
            "📉 Promedio del error (LOOCV - MSE): 85.87\n"
          ]
        }
      ]
    },
    {
      "cell_type": "markdown",
      "source": [
        "###  Interpretación del resultado\n",
        "\n",
        "En este ejemplo, el modelo se entrenó **20 veces**, dejando fuera una muestra distinta en cada iteración.  \n",
        "Luego se calculó el **Error Cuadrático Medio (MSE)** en cada uno de esos casos.\n",
        "\n",
        "- Este enfoque garantiza que **cada dato fue utilizado como prueba exactamente una vez**.\n",
        "- El resultado mostrado es el **promedio del error**, lo que nos da una estimación muy confiable del rendimiento general del modelo.\n",
        "\n",
        " Aunque LOOCV es muy preciso, es recomendable **solo cuando el dataset es pequeño**, ya que el tiempo de cómputo puede crecer rápidamente si hay muchas observaciones.\n"
      ],
      "metadata": {
        "id": "SaKLQ2uqkYmj"
      }
    },
    {
      "cell_type": "markdown",
      "source": [
        "###  Comparación visual: K-Fold vs LOOCV\n",
        "\n",
        "Esta visualización muestra claramente la diferencia entre ambos métodos:\n",
        "\n",
        "| Método      | Número de iteraciones | Datos usados como prueba por iteración | ¿Todos los datos se usan como test? |\n",
        "|-------------|------------------------|-----------------------------------------|--------------------------------------|\n",
        "| **K-Fold**  | K (en este caso, 4)    | Un grupo distinto en cada fold         | ✅ Sí (una vez por iteración)        |\n",
        "| **LOOCV**   | N (una por muestra)    | Solo 1 dato por iteración              | ✅ Sí (exactamente una vez cada uno) |\n",
        "\n",
        " **Observaciones:**\n",
        "- En K-Fold se validan *bloques completos de datos* → más rápido, menos iteraciones.\n",
        "- En LOOCV se prueba con **cada dato por separado**, lo que resulta en **más precisión pero mayor costo computacional**.\n",
        "\n",
        " Ambos métodos usan **todos los datos**, pero lo hacen de formas muy distintas.  \n",
        "Escoger uno u otro depende del **tamaño del dataset** y del **costo computacional que estemos dispuestos a pagar**.\n"
      ],
      "metadata": {
        "id": "vwMr_ekglGlB"
      }
    },
    {
      "cell_type": "code",
      "source": [
        "# Paso 8: Comparación visual entre K-Fold y LOOCV\n",
        "\n",
        "import matplotlib.pyplot as plt\n",
        "import numpy as np\n",
        "from sklearn.model_selection import KFold, LeaveOneOut\n",
        "\n",
        "# Simulamos un dataset con 12 muestras\n",
        "n_samples = 12\n",
        "X_demo = np.arange(n_samples).reshape(-1, 1)\n",
        "\n",
        "# Esquema 1: K-Fold (K=4)\n",
        "kf = KFold(n_splits=4, shuffle=False)\n",
        "\n",
        "# Esquema 2: LOOCV\n",
        "loo = LeaveOneOut()\n",
        "\n",
        "# Crear figura con dos subplots\n",
        "fig, axs = plt.subplots(2, 1, figsize=(10, 6), sharex=True)\n",
        "\n",
        "# Visualización de K-Fold\n",
        "axs[0].set_title(\"K-Fold (K=4)\", fontsize=12)\n",
        "for i, (train_idx, test_idx) in enumerate(kf.split(X_demo)):\n",
        "    colores = np.full(n_samples, 'lightgray', dtype=object)\n",
        "    colores[train_idx] = 'steelblue'\n",
        "    colores[test_idx] = 'darkorange'\n",
        "    axs[0].scatter(range(n_samples), [i]*n_samples, c=colores, s=100, marker='s')\n",
        "\n",
        "axs[0].set_ylabel(\"Fold\")\n",
        "axs[0].set_yticks(range(4))\n",
        "axs[0].set_yticklabels([f'Fold {i+1}' for i in range(4)])\n",
        "\n",
        "# Visualización de LOOCV\n",
        "axs[1].set_title(\"Leave-One-Out (LOOCV)\", fontsize=12)\n",
        "for i, (train_idx, test_idx) in enumerate(loo.split(X_demo)):\n",
        "    colores = np.full(n_samples, 'lightgray', dtype=object)\n",
        "    colores[train_idx] = 'steelblue'\n",
        "    colores[test_idx] = 'darkorange'\n",
        "    axs[1].scatter(range(n_samples), [i]*n_samples, c=colores, s=100, marker='s')\n",
        "\n",
        "axs[1].set_ylabel(\"Iteración\")\n",
        "axs[1].set_yticks(range(n_samples))\n",
        "axs[1].set_yticklabels([f'{i+1}' for i in range(n_samples)])\n",
        "\n",
        "# Estética común\n",
        "plt.xlabel(\"Índice del dato\")\n",
        "plt.tight_layout()\n",
        "plt.show()\n"
      ],
      "metadata": {
        "colab": {
          "base_uri": "https://localhost:8080/",
          "height": 607
        },
        "id": "4Hm_MHUIkQ2c",
        "outputId": "642ab735-61af-40f6-92c9-6fec453c68ce"
      },
      "execution_count": 4,
      "outputs": [
        {
          "output_type": "display_data",
          "data": {
            "text/plain": [
              "<Figure size 1000x600 with 2 Axes>"
            ],
            "image/png": "[encoded data removed]"
          },
          "metadata": {}
        }
      ]
    },
    {
      "cell_type": "code",
      "source": [],
      "metadata": {
        "id": "Idh8xKyClNvj"
      },
      "execution_count": null,
      "outputs": []
    }
  ]
}